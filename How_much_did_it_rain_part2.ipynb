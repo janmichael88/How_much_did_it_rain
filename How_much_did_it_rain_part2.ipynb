{
 "cells": [
  {
   "cell_type": "code",
   "execution_count": 1,
   "metadata": {},
   "outputs": [],
   "source": [
    "import pandas as pd\n",
    "import numpy as np\n",
    "import seaborn as sns\n",
    "import matplotlib.pyplot as plt\n",
    "%matplotlib inline\n",
    "pd.set_option('display.max_columns', None)\n",
    "pd.set_option('display.max_rows', None)"
   ]
  },
  {
   "cell_type": "code",
   "execution_count": 2,
   "metadata": {},
   "outputs": [],
   "source": [
    "train_data = pd.read_csv('train.csv', nrows=4e6)\n",
    "raw_ids_all = train_data[\"Id\"]\n",
    "raw_ids = raw_ids_all.unique()"
   ]
  },
  {
   "cell_type": "code",
   "execution_count": 3,
   "metadata": {},
   "outputs": [
    {
     "data": {
      "text/plain": [
       "(4000000, 24)"
      ]
     },
     "execution_count": 3,
     "metadata": {},
     "output_type": "execute_result"
    }
   ],
   "source": [
    "train_data.shape"
   ]
  },
  {
   "cell_type": "code",
   "execution_count": 4,
   "metadata": {},
   "outputs": [
    {
     "data": {
      "text/plain": [
       "344299"
      ]
     },
     "execution_count": 4,
     "metadata": {},
     "output_type": "execute_result"
    }
   ],
   "source": [
    "len(raw_ids)"
   ]
  },
  {
   "cell_type": "code",
   "execution_count": 5,
   "metadata": {},
   "outputs": [
    {
     "name": "stdout",
     "output_type": "stream",
     "text": [
      "<class 'pandas.core.frame.DataFrame'>\n",
      "RangeIndex: 4000000 entries, 0 to 3999999\n",
      "Data columns (total 24 columns):\n",
      " #   Column                 Dtype  \n",
      "---  ------                 -----  \n",
      " 0   Id                     int64  \n",
      " 1   minutes_past           int64  \n",
      " 2   radardist_km           float64\n",
      " 3   Ref                    float64\n",
      " 4   Ref_5x5_10th           float64\n",
      " 5   Ref_5x5_50th           float64\n",
      " 6   Ref_5x5_90th           float64\n",
      " 7   RefComposite           float64\n",
      " 8   RefComposite_5x5_10th  float64\n",
      " 9   RefComposite_5x5_50th  float64\n",
      " 10  RefComposite_5x5_90th  float64\n",
      " 11  RhoHV                  float64\n",
      " 12  RhoHV_5x5_10th         float64\n",
      " 13  RhoHV_5x5_50th         float64\n",
      " 14  RhoHV_5x5_90th         float64\n",
      " 15  Zdr                    float64\n",
      " 16  Zdr_5x5_10th           float64\n",
      " 17  Zdr_5x5_50th           float64\n",
      " 18  Zdr_5x5_90th           float64\n",
      " 19  Kdp                    float64\n",
      " 20  Kdp_5x5_10th           float64\n",
      " 21  Kdp_5x5_50th           float64\n",
      " 22  Kdp_5x5_90th           float64\n",
      " 23  Expected               float64\n",
      "dtypes: float64(22), int64(2)\n",
      "memory usage: 732.4 MB\n"
     ]
    }
   ],
   "source": [
    "train_data.info()"
   ]
  },
  {
   "cell_type": "code",
   "execution_count": 6,
   "metadata": {},
   "outputs": [
    {
     "data": {
      "text/html": [
       "<div>\n",
       "<style scoped>\n",
       "    .dataframe tbody tr th:only-of-type {\n",
       "        vertical-align: middle;\n",
       "    }\n",
       "\n",
       "    .dataframe tbody tr th {\n",
       "        vertical-align: top;\n",
       "    }\n",
       "\n",
       "    .dataframe thead th {\n",
       "        text-align: right;\n",
       "    }\n",
       "</style>\n",
       "<table border=\"1\" class=\"dataframe\">\n",
       "  <thead>\n",
       "    <tr style=\"text-align: right;\">\n",
       "      <th></th>\n",
       "      <th>Id</th>\n",
       "      <th>minutes_past</th>\n",
       "      <th>radardist_km</th>\n",
       "      <th>Ref</th>\n",
       "      <th>Ref_5x5_10th</th>\n",
       "      <th>Ref_5x5_50th</th>\n",
       "      <th>Ref_5x5_90th</th>\n",
       "      <th>RefComposite</th>\n",
       "      <th>RefComposite_5x5_10th</th>\n",
       "      <th>RefComposite_5x5_50th</th>\n",
       "      <th>RefComposite_5x5_90th</th>\n",
       "      <th>RhoHV</th>\n",
       "      <th>RhoHV_5x5_10th</th>\n",
       "      <th>RhoHV_5x5_50th</th>\n",
       "      <th>RhoHV_5x5_90th</th>\n",
       "      <th>Zdr</th>\n",
       "      <th>Zdr_5x5_10th</th>\n",
       "      <th>Zdr_5x5_50th</th>\n",
       "      <th>Zdr_5x5_90th</th>\n",
       "      <th>Kdp</th>\n",
       "      <th>Kdp_5x5_10th</th>\n",
       "      <th>Kdp_5x5_50th</th>\n",
       "      <th>Kdp_5x5_90th</th>\n",
       "      <th>Expected</th>\n",
       "    </tr>\n",
       "  </thead>\n",
       "  <tbody>\n",
       "    <tr>\n",
       "      <th>count</th>\n",
       "      <td>4.000000e+06</td>\n",
       "      <td>4.000000e+06</td>\n",
       "      <td>4.000000e+06</td>\n",
       "      <td>1.889100e+06</td>\n",
       "      <td>1.582608e+06</td>\n",
       "      <td>1.892016e+06</td>\n",
       "      <td>2.233064e+06</td>\n",
       "      <td>2.004566e+06</td>\n",
       "      <td>1.729464e+06</td>\n",
       "      <td>2.003984e+06</td>\n",
       "      <td>2.319580e+06</td>\n",
       "      <td>1.454055e+06</td>\n",
       "      <td>1.225807e+06</td>\n",
       "      <td>1.454378e+06</td>\n",
       "      <td>1.728579e+06</td>\n",
       "      <td>1.454055e+06</td>\n",
       "      <td>1.225807e+06</td>\n",
       "      <td>1.454378e+06</td>\n",
       "      <td>1.728579e+06</td>\n",
       "      <td>1.239646e+06</td>\n",
       "      <td>1.025215e+06</td>\n",
       "      <td>1.241105e+06</td>\n",
       "      <td>1.486013e+06</td>\n",
       "      <td>4.000000e+06</td>\n",
       "    </tr>\n",
       "    <tr>\n",
       "      <th>mean</th>\n",
       "      <td>1.736903e+05</td>\n",
       "      <td>2.949933e+01</td>\n",
       "      <td>1.104781e+01</td>\n",
       "      <td>2.322470e+01</td>\n",
       "      <td>2.022038e+01</td>\n",
       "      <td>2.291314e+01</td>\n",
       "      <td>2.623384e+01</td>\n",
       "      <td>2.502333e+01</td>\n",
       "      <td>2.245765e+01</td>\n",
       "      <td>2.473629e+01</td>\n",
       "      <td>2.773016e+01</td>\n",
       "      <td>9.732448e-01</td>\n",
       "      <td>9.207162e-01</td>\n",
       "      <td>9.747135e-01</td>\n",
       "      <td>1.014827e+00</td>\n",
       "      <td>5.390516e-01</td>\n",
       "      <td>-6.936456e-01</td>\n",
       "      <td>3.476980e-01</td>\n",
       "      <td>2.050309e+00</td>\n",
       "      <td>2.807346e-02</td>\n",
       "      <td>-3.427414e+00</td>\n",
       "      <td>-4.526659e-01</td>\n",
       "      <td>4.013970e+00</td>\n",
       "      <td>1.102606e+02</td>\n",
       "    </tr>\n",
       "    <tr>\n",
       "      <th>std</th>\n",
       "      <td>9.914775e+04</td>\n",
       "      <td>1.731868e+01</td>\n",
       "      <td>4.222652e+00</td>\n",
       "      <td>1.037574e+01</td>\n",
       "      <td>9.212803e+00</td>\n",
       "      <td>1.007524e+01</td>\n",
       "      <td>1.115220e+01</td>\n",
       "      <td>1.070953e+01</td>\n",
       "      <td>9.715129e+00</td>\n",
       "      <td>1.045201e+01</td>\n",
       "      <td>1.151992e+01</td>\n",
       "      <td>8.923426e-02</td>\n",
       "      <td>1.241112e-01</td>\n",
       "      <td>7.386994e-02</td>\n",
       "      <td>4.792623e-02</td>\n",
       "      <td>1.500426e+00</td>\n",
       "      <td>1.006046e+00</td>\n",
       "      <td>9.438947e-01</td>\n",
       "      <td>1.660226e+00</td>\n",
       "      <td>3.813226e+00</td>\n",
       "      <td>2.760417e+00</td>\n",
       "      <td>2.235520e+00</td>\n",
       "      <td>4.081664e+00</td>\n",
       "      <td>5.577478e+02</td>\n",
       "    </tr>\n",
       "    <tr>\n",
       "      <th>min</th>\n",
       "      <td>1.000000e+00</td>\n",
       "      <td>0.000000e+00</td>\n",
       "      <td>0.000000e+00</td>\n",
       "      <td>-2.900000e+01</td>\n",
       "      <td>-3.150000e+01</td>\n",
       "      <td>-3.150000e+01</td>\n",
       "      <td>-2.650000e+01</td>\n",
       "      <td>-2.650000e+01</td>\n",
       "      <td>-2.900000e+01</td>\n",
       "      <td>-2.500000e+01</td>\n",
       "      <td>-2.300000e+01</td>\n",
       "      <td>2.083333e-01</td>\n",
       "      <td>2.083333e-01</td>\n",
       "      <td>2.083333e-01</td>\n",
       "      <td>2.083333e-01</td>\n",
       "      <td>-7.875000e+00</td>\n",
       "      <td>-7.875000e+00</td>\n",
       "      <td>-7.875000e+00</td>\n",
       "      <td>-7.875000e+00</td>\n",
       "      <td>-6.804000e+01</td>\n",
       "      <td>-6.091000e+01</td>\n",
       "      <td>-7.029000e+01</td>\n",
       "      <td>-9.112000e+01</td>\n",
       "      <td>1.000000e-02</td>\n",
       "    </tr>\n",
       "    <tr>\n",
       "      <th>25%</th>\n",
       "      <td>8.781700e+04</td>\n",
       "      <td>1.400000e+01</td>\n",
       "      <td>9.000000e+00</td>\n",
       "      <td>1.650000e+01</td>\n",
       "      <td>1.450000e+01</td>\n",
       "      <td>1.650000e+01</td>\n",
       "      <td>1.850000e+01</td>\n",
       "      <td>1.800000e+01</td>\n",
       "      <td>1.600000e+01</td>\n",
       "      <td>1.750000e+01</td>\n",
       "      <td>1.950000e+01</td>\n",
       "      <td>9.716667e-01</td>\n",
       "      <td>9.150000e-01</td>\n",
       "      <td>9.750000e-01</td>\n",
       "      <td>9.983333e-01</td>\n",
       "      <td>-1.875000e-01</td>\n",
       "      <td>-1.062500e+00</td>\n",
       "      <td>-6.250000e-02</td>\n",
       "      <td>1.062500e+00</td>\n",
       "      <td>-1.410004e+00</td>\n",
       "      <td>-4.520004e+00</td>\n",
       "      <td>-7.100067e-01</td>\n",
       "      <td>1.819992e+00</td>\n",
       "      <td>2.540001e-01</td>\n",
       "    </tr>\n",
       "    <tr>\n",
       "      <th>50%</th>\n",
       "      <td>1.742080e+05</td>\n",
       "      <td>2.900000e+01</td>\n",
       "      <td>1.100000e+01</td>\n",
       "      <td>2.300000e+01</td>\n",
       "      <td>2.000000e+01</td>\n",
       "      <td>2.300000e+01</td>\n",
       "      <td>2.600000e+01</td>\n",
       "      <td>2.450000e+01</td>\n",
       "      <td>2.250000e+01</td>\n",
       "      <td>2.450000e+01</td>\n",
       "      <td>2.750000e+01</td>\n",
       "      <td>9.916667e-01</td>\n",
       "      <td>9.616666e-01</td>\n",
       "      <td>9.916667e-01</td>\n",
       "      <td>1.008333e+00</td>\n",
       "      <td>3.750000e-01</td>\n",
       "      <td>-6.250000e-01</td>\n",
       "      <td>2.500000e-01</td>\n",
       "      <td>1.687500e+00</td>\n",
       "      <td>0.000000e+00</td>\n",
       "      <td>-2.820007e+00</td>\n",
       "      <td>0.000000e+00</td>\n",
       "      <td>3.500000e+00</td>\n",
       "      <td>1.016000e+00</td>\n",
       "    </tr>\n",
       "    <tr>\n",
       "      <th>75%</th>\n",
       "      <td>2.595700e+05</td>\n",
       "      <td>4.400000e+01</td>\n",
       "      <td>1.400000e+01</td>\n",
       "      <td>3.000000e+01</td>\n",
       "      <td>2.600000e+01</td>\n",
       "      <td>2.950000e+01</td>\n",
       "      <td>3.400000e+01</td>\n",
       "      <td>3.200000e+01</td>\n",
       "      <td>2.900000e+01</td>\n",
       "      <td>3.150000e+01</td>\n",
       "      <td>3.550000e+01</td>\n",
       "      <td>1.001667e+00</td>\n",
       "      <td>9.850000e-01</td>\n",
       "      <td>9.983333e-01</td>\n",
       "      <td>1.051667e+00</td>\n",
       "      <td>1.062500e+00</td>\n",
       "      <td>-1.875000e-01</td>\n",
       "      <td>6.875000e-01</td>\n",
       "      <td>2.562500e+00</td>\n",
       "      <td>1.729996e+00</td>\n",
       "      <td>-1.760010e+00</td>\n",
       "      <td>3.499908e-01</td>\n",
       "      <td>5.629990e+00</td>\n",
       "      <td>3.810002e+00</td>\n",
       "    </tr>\n",
       "    <tr>\n",
       "      <th>max</th>\n",
       "      <td>3.442990e+05</td>\n",
       "      <td>5.900000e+01</td>\n",
       "      <td>2.100000e+01</td>\n",
       "      <td>7.100000e+01</td>\n",
       "      <td>6.050000e+01</td>\n",
       "      <td>6.900000e+01</td>\n",
       "      <td>7.250000e+01</td>\n",
       "      <td>8.300000e+01</td>\n",
       "      <td>6.600000e+01</td>\n",
       "      <td>7.100000e+01</td>\n",
       "      <td>9.150000e+01</td>\n",
       "      <td>1.051667e+00</td>\n",
       "      <td>1.051667e+00</td>\n",
       "      <td>1.051667e+00</td>\n",
       "      <td>1.051667e+00</td>\n",
       "      <td>7.937500e+00</td>\n",
       "      <td>7.937500e+00</td>\n",
       "      <td>7.937500e+00</td>\n",
       "      <td>7.937500e+00</td>\n",
       "      <td>1.215200e+02</td>\n",
       "      <td>2.470001e+00</td>\n",
       "      <td>1.070999e+01</td>\n",
       "      <td>1.446000e+02</td>\n",
       "      <td>3.301773e+04</td>\n",
       "    </tr>\n",
       "  </tbody>\n",
       "</table>\n",
       "</div>"
      ],
      "text/plain": [
       "                 Id  minutes_past  radardist_km           Ref  Ref_5x5_10th  \\\n",
       "count  4.000000e+06  4.000000e+06  4.000000e+06  1.889100e+06  1.582608e+06   \n",
       "mean   1.736903e+05  2.949933e+01  1.104781e+01  2.322470e+01  2.022038e+01   \n",
       "std    9.914775e+04  1.731868e+01  4.222652e+00  1.037574e+01  9.212803e+00   \n",
       "min    1.000000e+00  0.000000e+00  0.000000e+00 -2.900000e+01 -3.150000e+01   \n",
       "25%    8.781700e+04  1.400000e+01  9.000000e+00  1.650000e+01  1.450000e+01   \n",
       "50%    1.742080e+05  2.900000e+01  1.100000e+01  2.300000e+01  2.000000e+01   \n",
       "75%    2.595700e+05  4.400000e+01  1.400000e+01  3.000000e+01  2.600000e+01   \n",
       "max    3.442990e+05  5.900000e+01  2.100000e+01  7.100000e+01  6.050000e+01   \n",
       "\n",
       "       Ref_5x5_50th  Ref_5x5_90th  RefComposite  RefComposite_5x5_10th  \\\n",
       "count  1.892016e+06  2.233064e+06  2.004566e+06           1.729464e+06   \n",
       "mean   2.291314e+01  2.623384e+01  2.502333e+01           2.245765e+01   \n",
       "std    1.007524e+01  1.115220e+01  1.070953e+01           9.715129e+00   \n",
       "min   -3.150000e+01 -2.650000e+01 -2.650000e+01          -2.900000e+01   \n",
       "25%    1.650000e+01  1.850000e+01  1.800000e+01           1.600000e+01   \n",
       "50%    2.300000e+01  2.600000e+01  2.450000e+01           2.250000e+01   \n",
       "75%    2.950000e+01  3.400000e+01  3.200000e+01           2.900000e+01   \n",
       "max    6.900000e+01  7.250000e+01  8.300000e+01           6.600000e+01   \n",
       "\n",
       "       RefComposite_5x5_50th  RefComposite_5x5_90th         RhoHV  \\\n",
       "count           2.003984e+06           2.319580e+06  1.454055e+06   \n",
       "mean            2.473629e+01           2.773016e+01  9.732448e-01   \n",
       "std             1.045201e+01           1.151992e+01  8.923426e-02   \n",
       "min            -2.500000e+01          -2.300000e+01  2.083333e-01   \n",
       "25%             1.750000e+01           1.950000e+01  9.716667e-01   \n",
       "50%             2.450000e+01           2.750000e+01  9.916667e-01   \n",
       "75%             3.150000e+01           3.550000e+01  1.001667e+00   \n",
       "max             7.100000e+01           9.150000e+01  1.051667e+00   \n",
       "\n",
       "       RhoHV_5x5_10th  RhoHV_5x5_50th  RhoHV_5x5_90th           Zdr  \\\n",
       "count    1.225807e+06    1.454378e+06    1.728579e+06  1.454055e+06   \n",
       "mean     9.207162e-01    9.747135e-01    1.014827e+00  5.390516e-01   \n",
       "std      1.241112e-01    7.386994e-02    4.792623e-02  1.500426e+00   \n",
       "min      2.083333e-01    2.083333e-01    2.083333e-01 -7.875000e+00   \n",
       "25%      9.150000e-01    9.750000e-01    9.983333e-01 -1.875000e-01   \n",
       "50%      9.616666e-01    9.916667e-01    1.008333e+00  3.750000e-01   \n",
       "75%      9.850000e-01    9.983333e-01    1.051667e+00  1.062500e+00   \n",
       "max      1.051667e+00    1.051667e+00    1.051667e+00  7.937500e+00   \n",
       "\n",
       "       Zdr_5x5_10th  Zdr_5x5_50th  Zdr_5x5_90th           Kdp  Kdp_5x5_10th  \\\n",
       "count  1.225807e+06  1.454378e+06  1.728579e+06  1.239646e+06  1.025215e+06   \n",
       "mean  -6.936456e-01  3.476980e-01  2.050309e+00  2.807346e-02 -3.427414e+00   \n",
       "std    1.006046e+00  9.438947e-01  1.660226e+00  3.813226e+00  2.760417e+00   \n",
       "min   -7.875000e+00 -7.875000e+00 -7.875000e+00 -6.804000e+01 -6.091000e+01   \n",
       "25%   -1.062500e+00 -6.250000e-02  1.062500e+00 -1.410004e+00 -4.520004e+00   \n",
       "50%   -6.250000e-01  2.500000e-01  1.687500e+00  0.000000e+00 -2.820007e+00   \n",
       "75%   -1.875000e-01  6.875000e-01  2.562500e+00  1.729996e+00 -1.760010e+00   \n",
       "max    7.937500e+00  7.937500e+00  7.937500e+00  1.215200e+02  2.470001e+00   \n",
       "\n",
       "       Kdp_5x5_50th  Kdp_5x5_90th      Expected  \n",
       "count  1.241105e+06  1.486013e+06  4.000000e+06  \n",
       "mean  -4.526659e-01  4.013970e+00  1.102606e+02  \n",
       "std    2.235520e+00  4.081664e+00  5.577478e+02  \n",
       "min   -7.029000e+01 -9.112000e+01  1.000000e-02  \n",
       "25%   -7.100067e-01  1.819992e+00  2.540001e-01  \n",
       "50%    0.000000e+00  3.500000e+00  1.016000e+00  \n",
       "75%    3.499908e-01  5.629990e+00  3.810002e+00  \n",
       "max    1.070999e+01  1.446000e+02  3.301773e+04  "
      ]
     },
     "execution_count": 6,
     "metadata": {},
     "output_type": "execute_result"
    }
   ],
   "source": [
    "train_data.describe()"
   ]
  },
  {
   "cell_type": "markdown",
   "metadata": {},
   "source": [
    "Convert each column data type to floats of size 32"
   ]
  },
  {
   "cell_type": "code",
   "execution_count": 7,
   "metadata": {},
   "outputs": [],
   "source": [
    "for column in train_data.columns:\n",
    "    train_data[column] = train_data[column].astype(np.float32)\n",
    "train_data['Id'] = train_data['Id'].astype(np.int32)"
   ]
  },
  {
   "cell_type": "code",
   "execution_count": 8,
   "metadata": {},
   "outputs": [
    {
     "name": "stdout",
     "output_type": "stream",
     "text": [
      "<class 'pandas.core.frame.DataFrame'>\n",
      "RangeIndex: 4000000 entries, 0 to 3999999\n",
      "Data columns (total 24 columns):\n",
      " #   Column                 Dtype  \n",
      "---  ------                 -----  \n",
      " 0   Id                     int32  \n",
      " 1   minutes_past           float32\n",
      " 2   radardist_km           float32\n",
      " 3   Ref                    float32\n",
      " 4   Ref_5x5_10th           float32\n",
      " 5   Ref_5x5_50th           float32\n",
      " 6   Ref_5x5_90th           float32\n",
      " 7   RefComposite           float32\n",
      " 8   RefComposite_5x5_10th  float32\n",
      " 9   RefComposite_5x5_50th  float32\n",
      " 10  RefComposite_5x5_90th  float32\n",
      " 11  RhoHV                  float32\n",
      " 12  RhoHV_5x5_10th         float32\n",
      " 13  RhoHV_5x5_50th         float32\n",
      " 14  RhoHV_5x5_90th         float32\n",
      " 15  Zdr                    float32\n",
      " 16  Zdr_5x5_10th           float32\n",
      " 17  Zdr_5x5_50th           float32\n",
      " 18  Zdr_5x5_90th           float32\n",
      " 19  Kdp                    float32\n",
      " 20  Kdp_5x5_10th           float32\n",
      " 21  Kdp_5x5_50th           float32\n",
      " 22  Kdp_5x5_90th           float32\n",
      " 23  Expected               float32\n",
      "dtypes: float32(23), int32(1)\n",
      "memory usage: 366.2 MB\n"
     ]
    }
   ],
   "source": [
    "train_data.info()"
   ]
  },
  {
   "cell_type": "markdown",
   "metadata": {},
   "source": [
    "Remove only ids with NaNs in the Ref column"
   ]
  },
  {
   "cell_type": "code",
   "execution_count": 9,
   "metadata": {},
   "outputs": [
    {
     "data": {
      "text/plain": [
       "2110900"
      ]
     },
     "execution_count": 9,
     "metadata": {},
     "output_type": "execute_result"
    }
   ],
   "source": [
    "np.sum(np.isnan(train_data['Ref']))"
   ]
  },
  {
   "cell_type": "code",
   "execution_count": 10,
   "metadata": {},
   "outputs": [
    {
     "name": "stdout",
     "output_type": "stream",
     "text": [
      "(1889100, 24)\n"
     ]
    }
   ],
   "source": [
    "train_raw_tmp = train_data[~np.isnan(train_data.Ref)]\n",
    "print(train_raw_tmp.shape)"
   ]
  },
  {
   "cell_type": "code",
   "execution_count": 11,
   "metadata": {},
   "outputs": [],
   "source": [
    "raw_ids_tmp = train_raw_tmp[\"Id\"].unique()"
   ]
  },
  {
   "cell_type": "code",
   "execution_count": 12,
   "metadata": {},
   "outputs": [
    {
     "data": {
      "text/plain": [
       "215248"
      ]
     },
     "execution_count": 12,
     "metadata": {},
     "output_type": "execute_result"
    }
   ],
   "source": [
    "len(raw_ids_tmp)"
   ]
  },
  {
   "cell_type": "markdown",
   "metadata": {},
   "source": [
    "Check if raw_ids are in raw_tmps"
   ]
  },
  {
   "cell_type": "code",
   "execution_count": 13,
   "metadata": {},
   "outputs": [],
   "source": [
    "train_new = train_data[np.in1d(raw_ids_all, raw_ids_tmp)]"
   ]
  },
  {
   "cell_type": "code",
   "execution_count": 14,
   "metadata": {},
   "outputs": [
    {
     "data": {
      "text/plain": [
       "(2685403, 24)"
      ]
     },
     "execution_count": 14,
     "metadata": {},
     "output_type": "execute_result"
    }
   ],
   "source": [
    "train_new.shape"
   ]
  },
  {
   "cell_type": "code",
   "execution_count": 15,
   "metadata": {},
   "outputs": [],
   "source": [
    "train_new = train_new.fillna(0.0)\n",
    "train_new = train_new.reset_index(drop=True)"
   ]
  },
  {
   "cell_type": "markdown",
   "metadata": {},
   "source": [
    "Define and exclude outliers from the training set, i.e where expected rainfall is too small"
   ]
  },
  {
   "cell_type": "code",
   "execution_count": 16,
   "metadata": {},
   "outputs": [],
   "source": [
    "threshold = 80\n",
    "train_new_group = train_new.groupby('Id')\n",
    "#get the mean arcross all ID's\n",
    "mean_ID = pd.DataFrame(train_new_group['Expected'].mean())"
   ]
  },
  {
   "cell_type": "code",
   "execution_count": 17,
   "metadata": {},
   "outputs": [
    {
     "data": {
      "text/html": [
       "<div>\n",
       "<style scoped>\n",
       "    .dataframe tbody tr th:only-of-type {\n",
       "        vertical-align: middle;\n",
       "    }\n",
       "\n",
       "    .dataframe tbody tr th {\n",
       "        vertical-align: top;\n",
       "    }\n",
       "\n",
       "    .dataframe thead th {\n",
       "        text-align: right;\n",
       "    }\n",
       "</style>\n",
       "<table border=\"1\" class=\"dataframe\">\n",
       "  <thead>\n",
       "    <tr style=\"text-align: right;\">\n",
       "      <th></th>\n",
       "      <th>Expected</th>\n",
       "    </tr>\n",
       "  </thead>\n",
       "  <tbody>\n",
       "    <tr>\n",
       "      <th>count</th>\n",
       "      <td>215248.000000</td>\n",
       "    </tr>\n",
       "    <tr>\n",
       "      <th>mean</th>\n",
       "      <td>23.699896</td>\n",
       "    </tr>\n",
       "    <tr>\n",
       "      <th>std</th>\n",
       "      <td>248.168945</td>\n",
       "    </tr>\n",
       "    <tr>\n",
       "      <th>min</th>\n",
       "      <td>0.010000</td>\n",
       "    </tr>\n",
       "    <tr>\n",
       "      <th>25%</th>\n",
       "      <td>0.254000</td>\n",
       "    </tr>\n",
       "    <tr>\n",
       "      <th>50%</th>\n",
       "      <td>1.270001</td>\n",
       "    </tr>\n",
       "    <tr>\n",
       "      <th>75%</th>\n",
       "      <td>3.556002</td>\n",
       "    </tr>\n",
       "    <tr>\n",
       "      <th>max</th>\n",
       "      <td>33017.730469</td>\n",
       "    </tr>\n",
       "  </tbody>\n",
       "</table>\n",
       "</div>"
      ],
      "text/plain": [
       "            Expected\n",
       "count  215248.000000\n",
       "mean       23.699896\n",
       "std       248.168945\n",
       "min         0.010000\n",
       "25%         0.254000\n",
       "50%         1.270001\n",
       "75%         3.556002\n",
       "max     33017.730469"
      ]
     },
     "execution_count": 17,
     "metadata": {},
     "output_type": "execute_result"
    }
   ],
   "source": [
    "mean_ID.describe()"
   ]
  },
  {
   "cell_type": "code",
   "execution_count": 18,
   "metadata": {},
   "outputs": [],
   "source": [
    "meaningful_ids = np.array(mean_ID[mean_ID['Expected'] < threshold].index)"
   ]
  },
  {
   "cell_type": "code",
   "execution_count": 19,
   "metadata": {},
   "outputs": [
    {
     "data": {
      "text/plain": [
       "210676"
      ]
     },
     "execution_count": 19,
     "metadata": {},
     "output_type": "execute_result"
    }
   ],
   "source": [
    "len(meaningful_ids)"
   ]
  },
  {
   "cell_type": "code",
   "execution_count": 20,
   "metadata": {},
   "outputs": [
    {
     "data": {
      "text/plain": [
       "array([ 2,  4,  7,  8, 10, 11, 12, 14, 15, 17])"
      ]
     },
     "execution_count": 20,
     "metadata": {},
     "output_type": "execute_result"
    }
   ],
   "source": [
    "meaningful_ids[:10]"
   ]
  },
  {
   "cell_type": "code",
   "execution_count": 21,
   "metadata": {},
   "outputs": [],
   "source": [
    "train_final = train_new[np.in1d(train_new.Id, meaningful_ids)]"
   ]
  },
  {
   "cell_type": "markdown",
   "metadata": {},
   "source": [
    "Delete other variables up unitl now"
   ]
  },
  {
   "cell_type": "code",
   "execution_count": 22,
   "metadata": {},
   "outputs": [],
   "source": [
    "del train_data, train_new, train_new_group,train_raw_tmp"
   ]
  },
  {
   "cell_type": "markdown",
   "metadata": {},
   "source": [
    "Define a function that pads seris up to target length 19"
   ]
  },
  {
   "cell_type": "code",
   "execution_count": 23,
   "metadata": {},
   "outputs": [],
   "source": [
    "def pad_series(X, target_len=19):\n",
    "    seq_len = X.shape[0]\n",
    "    pad_size = target_len-seq_len\n",
    "    if (pad_size > 0):\n",
    "        X = np.pad(X, ((0,pad_size), (0,0)), 'constant', constant_values=0.)\n",
    "    return X, seq_len"
   ]
  },
  {
   "cell_type": "code",
   "execution_count": 24,
   "metadata": {},
   "outputs": [],
   "source": [
    "data_pd_gp = train_final.groupby(\"Id\")\n",
    "data_size = len(data_pd_gp)"
   ]
  },
  {
   "cell_type": "code",
   "execution_count": 25,
   "metadata": {},
   "outputs": [
    {
     "data": {
      "text/plain": [
       "210676"
      ]
     },
     "execution_count": 25,
     "metadata": {},
     "output_type": "execute_result"
    }
   ],
   "source": [
    "data_size"
   ]
  },
  {
   "cell_type": "markdown",
   "metadata": {},
   "source": [
    "travese each id in groupy by object, grabbing the necessary inputs from each id, and pad accordingly"
   ]
  },
  {
   "cell_type": "code",
   "execution_count": 26,
   "metadata": {},
   "outputs": [],
   "source": [
    "input_width = 19\n",
    "\n",
    "X_train = np.empty((data_size, input_width, 22))\n",
    "seq_lengths = np.zeros(data_size)\n",
    "y_train = np.zeros(data_size)\n",
    "\n",
    "i = 0\n",
    "for _,group in data_pd_gp:\n",
    "    group_array = np.array(group)\n",
    "    X, seq_length = pad_series(group_array[:,1:23], target_len=input_width)\n",
    "    y = group_array[0,23]\n",
    "    X_train[i, :, :] = X[:,:]\n",
    "    seq_lengths[i] = seq_length\n",
    "    y_train[i] = y\n",
    "    i += 1"
   ]
  },
  {
   "cell_type": "code",
   "execution_count": 27,
   "metadata": {},
   "outputs": [
    {
     "data": {
      "text/plain": [
       "((210676, 19, 22), (210676,))"
      ]
     },
     "execution_count": 27,
     "metadata": {},
     "output_type": "execute_result"
    }
   ],
   "source": [
    "X_train.shape, y_train.shape"
   ]
  },
  {
   "cell_type": "code",
   "execution_count": 28,
   "metadata": {},
   "outputs": [
    {
     "data": {
      "text/plain": [
       "(array([3.4000e+01, 1.0000e+01, 9.7800e+03, 3.9680e+03, 2.3000e+03,\n",
       "        5.0278e+04, 7.9913e+04, 4.0056e+04, 1.5409e+04, 8.9280e+03]),\n",
       " array([ 1. ,  2.8,  4.6,  6.4,  8.2, 10. , 11.8, 13.6, 15.4, 17.2, 19. ]),\n",
       " <a list of 10 Patch objects>)"
      ]
     },
     "execution_count": 28,
     "metadata": {},
     "output_type": "execute_result"
    },
    {
     "data": {
      "image/png": "[encoded data removed]",
      "text/plain": [
       "<Figure size 432x288 with 1 Axes>"
      ]
     },
     "metadata": {
      "needs_background": "light"
     },
     "output_type": "display_data"
    }
   ],
   "source": [
    "plt.hist(seq_lengths)"
   ]
  },
  {
   "cell_type": "markdown",
   "metadata": {},
   "source": [
    "# Create the model"
   ]
  },
  {
   "cell_type": "code",
   "execution_count": 29,
   "metadata": {},
   "outputs": [
    {
     "name": "stderr",
     "output_type": "stream",
     "text": [
      "Using TensorFlow backend.\n"
     ]
    }
   ],
   "source": [
    "from keras.layers import RNN, Input, Dense, LSTM, AveragePooling1D, TimeDistributed, Bidirectional, Flatten\n",
    "from keras.models import Model"
   ]
  },
  {
   "cell_type": "code",
   "execution_count": 30,
   "metadata": {},
   "outputs": [],
   "source": [
    "def get_model_lite(shape=(19,22)):\n",
    "    inp = Input(shape)\n",
    "    x = Bidirectional(LSTM(64, return_sequences=True))(inp)\n",
    "    x = TimeDistributed(Dense(64))(x)\n",
    "    x = Bidirectional(LSTM(128, return_sequences=True))(x)\n",
    "    x = TimeDistributed(Dense(1))(x)\n",
    "    x = AveragePooling1D(pool_size=2)(x)\n",
    "    x = Flatten()(x)\n",
    "    x = Dense(1)(x)\n",
    "\n",
    "    model = Model(inp, x)\n",
    "    return model"
   ]
  },
  {
   "cell_type": "code",
   "execution_count": 32,
   "metadata": {},
   "outputs": [],
   "source": [
    "m16 = get_model_lite((19,22))"
   ]
  },
  {
   "cell_type": "code",
   "execution_count": 33,
   "metadata": {},
   "outputs": [
    {
     "name": "stdout",
     "output_type": "stream",
     "text": [
      "_________________________________________________________________\n",
      "Layer (type)                 Output Shape              Param #   \n",
      "=================================================================\n",
      "input_2 (InputLayer)         (None, 19, 22)            0         \n",
      "_________________________________________________________________\n",
      "bidirectional_3 (Bidirection (None, 19, 128)           44544     \n",
      "_________________________________________________________________\n",
      "time_distributed_3 (TimeDist (None, 19, 64)            8256      \n",
      "_________________________________________________________________\n",
      "bidirectional_4 (Bidirection (None, 19, 256)           197632    \n",
      "_________________________________________________________________\n",
      "time_distributed_4 (TimeDist (None, 19, 1)             257       \n",
      "_________________________________________________________________\n",
      "average_pooling1d_2 (Average (None, 9, 1)              0         \n",
      "_________________________________________________________________\n",
      "flatten_2 (Flatten)          (None, 9)                 0         \n",
      "_________________________________________________________________\n",
      "dense_6 (Dense)              (None, 1)                 10        \n",
      "=================================================================\n",
      "Total params: 250,699\n",
      "Trainable params: 250,699\n",
      "Non-trainable params: 0\n",
      "_________________________________________________________________\n"
     ]
    }
   ],
   "source": [
    "m16.summary()"
   ]
  },
  {
   "cell_type": "code",
   "execution_count": 34,
   "metadata": {},
   "outputs": [
    {
     "name": "stdout",
     "output_type": "stream",
     "text": [
      "WARNING:tensorflow:From /anaconda3/lib/python3.7/site-packages/keras/optimizers.py:790: The name tf.train.Optimizer is deprecated. Please use tf.compat.v1.train.Optimizer instead.\n",
      "\n"
     ]
    }
   ],
   "source": [
    "from keras.optimizers import SGD\n",
    "\n",
    "sgd = SGD(lr=0.01, momentum=0.9, nesterov=True)\n",
    "m16.compile(sgd, loss='mae')\n"
   ]
  },
  {
   "cell_type": "code",
   "execution_count": 35,
   "metadata": {},
   "outputs": [
    {
     "name": "stdout",
     "output_type": "stream",
     "text": [
      "WARNING:tensorflow:From /anaconda3/lib/python3.7/site-packages/tensorflow_core/python/ops/math_grad.py:1424: where (from tensorflow.python.ops.array_ops) is deprecated and will be removed in a future version.\n",
      "Instructions for updating:\n",
      "Use tf.where in 2.0, which has the same broadcast rule as np.where\n",
      "WARNING:tensorflow:From /anaconda3/lib/python3.7/site-packages/keras/backend/tensorflow_backend.py:986: The name tf.assign_add is deprecated. Please use tf.compat.v1.assign_add instead.\n",
      "\n",
      "WARNING:tensorflow:From /anaconda3/lib/python3.7/site-packages/keras/backend/tensorflow_backend.py:973: The name tf.assign is deprecated. Please use tf.compat.v1.assign instead.\n",
      "\n",
      "WARNING:tensorflow:From /anaconda3/lib/python3.7/site-packages/keras/backend/tensorflow_backend.py:2741: The name tf.Session is deprecated. Please use tf.compat.v1.Session instead.\n",
      "\n",
      "Epoch 1/1\n",
      "WARNING:tensorflow:From /anaconda3/lib/python3.7/site-packages/keras/backend/tensorflow_backend.py:174: The name tf.get_default_session is deprecated. Please use tf.compat.v1.get_default_session instead.\n",
      "\n",
      "WARNING:tensorflow:From /anaconda3/lib/python3.7/site-packages/keras/backend/tensorflow_backend.py:181: The name tf.ConfigProto is deprecated. Please use tf.compat.v1.ConfigProto instead.\n",
      "\n",
      "WARNING:tensorflow:From /anaconda3/lib/python3.7/site-packages/keras/backend/tensorflow_backend.py:190: The name tf.global_variables is deprecated. Please use tf.compat.v1.global_variables instead.\n",
      "\n",
      "WARNING:tensorflow:From /anaconda3/lib/python3.7/site-packages/keras/backend/tensorflow_backend.py:199: The name tf.is_variable_initialized is deprecated. Please use tf.compat.v1.is_variable_initialized instead.\n",
      "\n",
      "WARNING:tensorflow:From /anaconda3/lib/python3.7/site-packages/keras/backend/tensorflow_backend.py:206: The name tf.variables_initializer is deprecated. Please use tf.compat.v1.variables_initializer instead.\n",
      "\n",
      "210676/210676 [==============================] - 1469s 7ms/step - loss: 2.6786\n"
     ]
    },
    {
     "data": {
      "text/plain": [
       "<keras.callbacks.History at 0x1a32d8e358>"
      ]
     },
     "execution_count": 35,
     "metadata": {},
     "output_type": "execute_result"
    }
   ],
   "source": [
    "m16.fit(X_train, y_train,batch_size=32, epochs=1, verbose=1)"
   ]
  },
  {
   "cell_type": "markdown",
   "metadata": {},
   "source": [
    "## Load file from google colab"
   ]
  },
  {
   "cell_type": "code",
   "execution_count": 38,
   "metadata": {},
   "outputs": [],
   "source": [
    "read_dictionary = np.load('rain_model1_loss.npy',allow_pickle='TRUE').item()"
   ]
  },
  {
   "cell_type": "code",
   "execution_count": 41,
   "metadata": {},
   "outputs": [
    {
     "data": {
      "image/png": "[encoded data removed]",
      "text/plain": [
       "<Figure size 432x288 with 1 Axes>"
      ]
     },
     "metadata": {
      "needs_background": "light"
     },
     "output_type": "display_data"
    }
   ],
   "source": [
    "plt.plot(read_dictionary['loss'])\n",
    "plt.show()"
   ]
  },
  {
   "cell_type": "code",
   "execution_count": null,
   "metadata": {},
   "outputs": [],
   "source": []
  }
 ],
 "metadata": {
  "kernelspec": {
   "display_name": "Python 3",
   "language": "python",
   "name": "python3"
  },
  "language_info": {
   "codemirror_mode": {
    "name": "ipython",
    "version": 3
   },
   "file_extension": ".py",
   "mimetype": "text/x-python",
   "name": "python",
   "nbconvert_exporter": "python",
   "pygments_lexer": "ipython3",
   "version": "3.7.3"
  }
 },
 "nbformat": 4,
 "nbformat_minor": 4
}
